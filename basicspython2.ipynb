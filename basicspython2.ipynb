{
 "cells": [
  {
   "cell_type": "code",
   "execution_count": 2,
   "metadata": {},
   "outputs": [
    {
     "name": "stdout",
     "output_type": "stream",
     "text": [
      "enter the number23\n",
      "square of the numbers 529\n"
     ]
    }
   ],
   "source": [
    "\n",
    "### SQUARE OF THE NUMBERS\n",
    "\n",
    "n = int(input(\"enter the number\"))\n",
    "if (n%2 != 0):\n",
    "    square = n*n\n",
    "print(\"square of the numbers\",square)\n"
   ]
  },
  {
   "cell_type": "code",
   "execution_count": 9,
   "metadata": {},
   "outputs": [
    {
     "name": "stdout",
     "output_type": "stream",
     "text": [
      "enter the stringmanima\n",
      "it is not a palindrome\n"
     ]
    }
   ],
   "source": [
    "### reverse the given string \n",
    "\n",
    "my_str = input('enter the string')\n",
    "rev_str = reversed(my_str)\n",
    "if list(my_str) == list(rev_str):\n",
    "    print(\"it is palindrome\")\n",
    "else:\n",
    "    print(\"it is not a palindrome\")"
   ]
  },
  {
   "cell_type": "code",
   "execution_count": 44,
   "metadata": {},
   "outputs": [
    {
     "name": "stdout",
     "output_type": "stream",
     "text": [
      "enter the number7\n",
      "fact:\n",
      "fact of the number 5040\n"
     ]
    }
   ],
   "source": [
    "### factorial of the number\n",
    "\n",
    " def fact(n):\n",
    "    if (n <= 1):\n",
    "        return 1 \n",
    "    else:\n",
    "        return (n*fact(n-1))\n",
    "n = int(input('enter the number'))\n",
    "print('fact:')\n",
    "print(\"fact of the number\",fact(n))"
   ]
  },
  {
   "cell_type": "code",
   "execution_count": 51,
   "metadata": {},
   "outputs": [
    {
     "name": "stdout",
     "output_type": "stream",
     "text": [
      "prime\n",
      "3.3166247903554\n"
     ]
    }
   ],
   "source": [
    "### print that the given number is prime or not and also print the square root of that number using math module\n",
    "\n",
    "import math\n",
    "def fact(n):\n",
    "    if n == 1:\n",
    "        return False\n",
    "    for x in range(2,(int)(math.sqrt())+1):\n",
    "        if n%x == 0:\n",
    "            return False\n",
    "    return True\n",
    "n = 11\n",
    "if n >= 0:\n",
    "    print('prime')\n",
    "else:\n",
    "    print('not prime')\n",
    "print(math.sqrt(11))\n"
   ]
  },
  {
   "cell_type": "code",
   "execution_count": 52,
   "metadata": {},
   "outputs": [
    {
     "name": "stdout",
     "output_type": "stream",
     "text": [
      "15\n"
     ]
    }
   ],
   "source": [
    " ### probability of the numbers where n = no. of events, r = no. of chances\n",
    "def ncr(n,r):\n",
    "    return (fact(n)/(fact(r)*fact(n-r)))\n",
    "def fact(n):\n",
    "    res = 1\n",
    "    for i in range(2,n+1):\n",
    "        res = res*i\n",
    "    return res\n",
    "n = 6\n",
    "r = 2\n",
    "print(int(ncr(n,r)))"
   ]
  },
  {
   "cell_type": "code",
   "execution_count": 55,
   "metadata": {},
   "outputs": [
    {
     "name": "stdout",
     "output_type": "stream",
     "text": [
      "the original list is: [1, 3, 5, 6, 3, 5, 6, 1]\n",
      "the list after removing duplicates: [1, 3, 5, 6]\n"
     ]
    }
   ],
   "source": [
    " ### remove the duplicate elements from the list\n",
    "    \n",
    "test_list = [1,3,5,6,3,5,6,1]\n",
    "print(\"the original list is:\",str(test_list))\n",
    "res = []\n",
    "for i in  test_list:\n",
    "    if i not in res:\n",
    "        res.append(i)\n",
    "print(\"the list after removing duplicates:\",str(res))"
   ]
  },
  {
   "cell_type": "code",
   "execution_count": 57,
   "metadata": {},
   "outputs": [
    {
     "name": "stdout",
     "output_type": "stream",
     "text": [
      "the original list is: [1, 3, 5, 6, 3, 5, 6, 1]\n",
      "the set after removing duplicates {1, 3, 5, 6}\n"
     ]
    }
   ],
   "source": [
    "### remove duplicates from the list and convert the list into dictionary\n",
    "test_list = [1,3,5,6,3,5,6,1]\n",
    "print(\"the original list is:\",str(test_list))\n",
    "res = []\n",
    "for i in test_list:\n",
    "    if i not in res:\n",
    "        res.append(i)\n",
    "print('the set after removing duplicates',set(res))"
   ]
  },
  {
   "cell_type": "code",
   "execution_count": 10,
   "metadata": {},
   "outputs": [
    {
     "name": "stdout",
     "output_type": "stream",
     "text": [
      "type of the array: <class 'numpy.ndarray'>\n",
      "dimentions of the array 2\n",
      "size of th array 6\n",
      "shape of the array (2, 3)\n"
     ]
    }
   ],
   "source": [
    "### using numpy perform the array operations\n",
    "import numpy as np\n",
    "arr = np.array([[1,4,3],[1,3,8]])\n",
    "print('type of the array:',type(arr))\n",
    "print('dimentions of the array',arr.ndim)\n",
    "print('size of th array',arr.size)\n",
    "print('shape of the array',arr.shape)\n",
    "print('arrays stores elements o')"
   ]
  },
  {
   "cell_type": "code",
   "execution_count": 3,
   "metadata": {},
   "outputs": [
    {
     "name": "stdout",
     "output_type": "stream",
     "text": [
      "nuk\n"
     ]
    }
   ],
   "source": [
    "li = \"renuka\"\n",
    "print(li[2:5])\n"
   ]
  },
  {
   "cell_type": "code",
   "execution_count": 4,
   "metadata": {},
   "outputs": [
    {
     "name": "stdout",
     "output_type": "stream",
     "text": [
      "1\n",
      "2\n",
      "3\n",
      "4\n",
      "5\n"
     ]
    }
   ],
   "source": [
    "for i in range(1,10):\n",
    "    if (i==6):\n",
    "        break\n",
    "    print(i)\n",
    " "
   ]
  },
  {
   "cell_type": "code",
   "execution_count": 5,
   "metadata": {},
   "outputs": [
    {
     "name": "stdout",
     "output_type": "stream",
     "text": [
      "apple\n",
      "orange\n"
     ]
    }
   ],
   "source": [
    "fruits = (\"apple\",\"mongo\",\"orange\")\n",
    "for i in fruits:\n",
    "    if i == \"mongo\":\n",
    "        continue\n",
    "    print(i)"
   ]
  },
  {
   "cell_type": "code",
   "execution_count": 6,
   "metadata": {},
   "outputs": [
    {
     "name": "stdout",
     "output_type": "stream",
     "text": [
      "add: 53\n",
      "sub: 20\n",
      "mul: 33\n"
     ]
    }
   ],
   "source": [
    "a = 10\n",
    "b = 43\n",
    "c = 23\n",
    "print('add:',a+b)\n",
    "print('sub:',b-c)\n",
    "print('mul:',a+c)"
   ]
  },
  {
   "cell_type": "code",
   "execution_count": 8,
   "metadata": {},
   "outputs": [
    {
     "name": "stdout",
     "output_type": "stream",
     "text": [
      "enter the number5\n",
      "enter the number6\n",
      "enter the numbers before swaping: 5\n",
      "enter the numbers before swpping: 6\n",
      "enter the numbers  after swapping: 5\n",
      "enter the numbers after swapping: 6\n"
     ]
    }
   ],
   "source": [
    "a = int(input(\"enter the number\"))\n",
    "b = int(input(\"enter the number\"))\n",
    "print(\"enter the numbers before swaping:\",a)\n",
    "print(\"enter the numbers before swpping:\",b)\n",
    "temp = a\n",
    "a = b\n",
    "b =  temp\n",
    "print(\"enter the numbers  after swapping:\",b)\n",
    "print(\"enter the numbers after swapping:\",a)"
   ]
  },
  {
   "cell_type": "code",
   "execution_count": null,
   "metadata": {},
   "outputs": [],
   "source": []
  }
 ],
 "metadata": {
  "kernelspec": {
   "display_name": "Python 3",
   "language": "python",
   "name": "python3"
  },
  "language_info": {
   "codemirror_mode": {
    "name": "ipython",
    "version": 3
   },
   "file_extension": ".py",
   "mimetype": "text/x-python",
   "name": "python",
   "nbconvert_exporter": "python",
   "pygments_lexer": "ipython3",
   "version": "3.7.3"
  }
 },
 "nbformat": 4,
 "nbformat_minor": 2
}
